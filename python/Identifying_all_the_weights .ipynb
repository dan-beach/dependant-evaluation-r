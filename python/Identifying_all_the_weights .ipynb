{
 "cells": [
  {
   "cell_type": "code",
   "execution_count": 1,
   "metadata": {},
   "outputs": [],
   "source": [
    "import pandas as pd\n",
    "import numpy as np\n",
    "import sys\n",
    "\n",
    "sys.path.append('/its/home/skw24/python_modules')\n",
    "import converter\n",
    "\n",
    "dire = '/its/home/skw24/depmap/'\n",
    "import re\n",
    "import sl\n",
    "import functools\n",
    "import json\n",
    "import random\n",
    "import os\n",
    "import math\n",
    "\n",
    "import matplotlib.pyplot as plt"
   ]
  },
  {
   "cell_type": "markdown",
   "metadata": {},
   "source": [
    "Import mutations from cell lines from Cosmic (CosmicCLP_MutantExport.tsv) and point mut_path at it\n",
    "https://cancer.sanger.ac.uk/cosmic/download\n",
    "\n",
    "Import gene expressions from cell lines from Cancer Cell Line Encyclopaedia (CCLE_RNAseq_genes_rpkm_20180929.gct)and point gene_path at it\n",
    "https://portals.broadinstitute.org/ccle\n",
    "\n",
    "Download cancer gene census https://cancer.sanger.ac.uk/census and point cgc_path at it. Use the separate jupyter notebook oncs,tsgs and kinases to form the three lists and save them.\n",
    "\n",
    "A conversion dataframe must then be created from ensembl Grch37 - the mutations in cancer cell line encyclopaedia use 37 - though COSMIC uses 38. Details on how to do this are given in Converter.ipynb The path to the pandas dataframe should be called conv_path\n",
    "\n"
   ]
  },
  {
   "cell_type": "code",
   "execution_count": null,
   "metadata": {},
   "outputs": [],
   "source": [
    "#mut_path = '/its/home/skw24/Data/CosmicCLP_MutantExport.tsv'\n",
    "\n",
    "mut_path = '/its/home/skw24/Data/CCLE_DepMap_18q3_maf_20180718.txt' #replace with your own path\n",
    "gene_path = '/its/home/skw24/Data/CCLE_RNAseq_genes_rpkm_20180929.gct' #replace with your own path\n",
    "data_path = '/its/home/skw24/Data/'#replace with your own path. This should be where you saved the tsgs,oncs and kinases.\n",
    "conv_path = '/its/home/skw24/Converter/gene_multi_converter.csv'#replace with your own path"
   ]
  },
  {
   "cell_type": "markdown",
   "metadata": {},
   "source": [
    "load the databases and lists of genes"
   ]
  },
  {
   "cell_type": "code",
   "execution_count": null,
   "metadata": {},
   "outputs": [],
   "source": [
    "conv = pd.read_csv(conv_path, header = 0, index_col = 0)"
   ]
  },
  {
   "cell_type": "code",
   "execution_count": null,
   "metadata": {},
   "outputs": [],
   "source": [
    "cl = pd.read_csv('/its/home/skw24/depmap/all_weights.csv',header = 0,index_col = 0)\n",
    "cell_lines = cl.columns"
   ]
  },
  {
   "cell_type": "code",
   "execution_count": null,
   "metadata": {},
   "outputs": [],
   "source": []
  },
  {
   "cell_type": "code",
   "execution_count": null,
   "metadata": {},
   "outputs": [],
   "source": [
    "mut_df0 = pd.read_csv(mut_path,header = 0, index_col = 0,sep = '\\t')\n",
    "\n",
    "exp_df  =pd.read_csv(gene_path,skiprows = 2,sep = '\\t')"
   ]
  },
  {
   "cell_type": "code",
   "execution_count": null,
   "metadata": {},
   "outputs": [],
   "source": [
    "def load_list(i):\n",
    "    with open(os.path.join(data_path,'{}.json'.format(i))) as f:\n",
    "        g = json.load(f)\n",
    "    return g\n",
    "\n",
    "kinases = load_list('kinases')\n",
    "oncs = load_list('oncs')\n",
    "tsgs =load_list('tsgs')"
   ]
  },
  {
   "cell_type": "markdown",
   "metadata": {},
   "source": [
    "Identify the cell lines of interest and set these to cell_lines. Here we are using those previously defined, but they can\n",
    "be any of the headers of exp_df that are also in mut_df0"
   ]
  },
  {
   "cell_type": "code",
   "execution_count": null,
   "metadata": {},
   "outputs": [],
   "source": [
    "cl = pd.read_csv('/its/home/skw24/depmap/all_weights.csv',header = 0,index_col = 0)\n",
    "cell_lines = cl.columns"
   ]
  },
  {
   "cell_type": "markdown",
   "metadata": {},
   "source": [
    "# Identifying loss of function mutations\n",
    "\n",
    "We split the mutations into two groups - those which will probably cause loss of function through nonsense or frameshift \n",
    "and those which are missense - others such as silent we discard"
   ]
  },
  {
   "cell_type": "code",
   "execution_count": null,
   "metadata": {},
   "outputs": [],
   "source": [
    "mut_df = mut_df0.loc[mut_df0['Tumor_Sample_Barcode'].map(lambda x: x in cell_lines)]"
   ]
  },
  {
   "cell_type": "code",
   "execution_count": null,
   "metadata": {},
   "outputs": [],
   "source": [
    "mut_df['Annotation_Transcript']=mut_df['Annotation_Transcript'].map(lambda x:x.split('.')[0])"
   ]
  },
  {
   "cell_type": "code",
   "execution_count": null,
   "metadata": {},
   "outputs": [],
   "source": [
    "#first we separate out the badly pathogenic mutations - these are assumed to result in loss of function\n",
    "\n",
    "pathogenic = ['Frame_Shift_Del', 'Frame_Shift_Ins','Nonsense_Mutation','Nonstop_Mutation','Stop_Codon_Del']\n",
    "\n",
    "mut_df.index = mut_df.index.map(lambda x: x.split('_')[0])\n",
    "\n",
    "path_muts = mut_df.loc[mut_df['Variant_Classification'].map(lambda x: x in pathogenic)]\n",
    "\n",
    "path_muts_per_sample = pd.Series(path_muts.groupby('Tumor_Sample_Barcode').groups).map(lambda x:','.join(list(x)))"
   ]
  },
  {
   "cell_type": "code",
   "execution_count": null,
   "metadata": {},
   "outputs": [],
   "source": [
    "tran_gene = conv['Gene stable ID']\n",
    "tran_gene.index = conv['Transcript stable ID']\n",
    "tran_gene = tran_gene.to_dict()"
   ]
  },
  {
   "cell_type": "code",
   "execution_count": null,
   "metadata": {},
   "outputs": [],
   "source": [
    "path_muts['ENSGs']=path_muts['Annotation_Transcript'].map(lambda x: tran_gene.get(x,np.nan))"
   ]
  },
  {
   "cell_type": "code",
   "execution_count": null,
   "metadata": {},
   "outputs": [],
   "source": [
    "path_muts1 = path_muts.loc[path_muts['ENSGs'].notnull()]"
   ]
  },
  {
   "cell_type": "code",
   "execution_count": null,
   "metadata": {},
   "outputs": [],
   "source": [
    "path_muts1.index = range(path_muts1.shape[0])"
   ]
  },
  {
   "cell_type": "code",
   "execution_count": null,
   "metadata": {},
   "outputs": [],
   "source": [
    "path_muts_per_sample = pd.Series(\n",
    "    path_muts1.groupby(by = 'Tumor_Sample_Barcode').groups).map(\n",
    "    lambda x: ','.join(list(set(path_muts1.reindex(x)['ENSGs']))))"
   ]
  },
  {
   "cell_type": "code",
   "execution_count": null,
   "metadata": {},
   "outputs": [],
   "source": [
    "path_muts_per_sample.to_csv('path_muts_per_sample_new_cells.csv')"
   ]
  },
  {
   "cell_type": "markdown",
   "metadata": {},
   "source": [
    "There are 582 loss of function mutations in total caused by frameshift or nonsense.\n",
    "We then identify the missense mutations which are predicted by SIFT to cause pathogenic response.\n",
    "\n"
   ]
  },
  {
   "cell_type": "code",
   "execution_count": null,
   "metadata": {},
   "outputs": [],
   "source": [
    "mut_df1_sm = mut_df.loc[mut_df['Variant_Classification']=='Missense_Mutation']"
   ]
  },
  {
   "cell_type": "code",
   "execution_count": null,
   "metadata": {},
   "outputs": [],
   "source": [
    "print(mut_df1_sm.shape)"
   ]
  },
  {
   "cell_type": "code",
   "execution_count": null,
   "metadata": {},
   "outputs": [],
   "source": [
    "ensts = pd.Series(list(set(mut_df1_sm['Annotation_Transcript'])))"
   ]
  },
  {
   "cell_type": "code",
   "execution_count": null,
   "metadata": {},
   "outputs": [],
   "source": [
    "#accept ensts if they are included in out ensembl database conv with protein ids\n",
    "transcript_stable_ids = set(conv['Transcript stable ID'])\n",
    "ensts_with_ensps = ensts[ensts.map(lambda i: i in transcript_stable_ids)]"
   ]
  },
  {
   "cell_type": "code",
   "execution_count": null,
   "metadata": {},
   "outputs": [],
   "source": [
    "def get_info(row):\n",
    "    '''using the ready made conv, identify for each mutation the following\n",
    "    ['Fasta',  'UniProtKB/Swiss-Prot ID',\n",
    "       'Protein stable ID', 'transcript stable id', 'chromo', 'start', 'end',\n",
    "       'wild', 'mutant']\n",
    "    Throw away any rows which dont have this information as it will not be possible to find the missense status\n",
    "       '''\n",
    "    \n",
    "    code = re.compile('p.([A-Z])(\\d+)([A-Z])')\n",
    "    def check(x,w,pos):\n",
    "        '''helper function used below to check that our fasta has the right amino acid at the right place'''\n",
    "        if len(x)>=pos:\n",
    "            return x[pos-1]==w\n",
    "        else:\n",
    "            return False\n",
    "    \n",
    "    \n",
    "    columns = ['Fasta','Protein stable ID', 'Transcript stable ID','UniProtKB/Swiss-Prot ID']\n",
    "     \n",
    "    enst,aa = row[['Annotation_Transcript','Protein_Change']]\n",
    "    if enst in transcript_stable_ids:\n",
    "        info = conv.loc[conv['Transcript stable ID']==enst][columns].drop_duplicates(subset = 'UniProtKB/Swiss-Prot ID')\n",
    "\n",
    "    else:\n",
    "        info = np.nan\n",
    "\n",
    "    if type(info)==pd.DataFrame and info.shape[0]>0:\n",
    "        match = code.match(aa)\n",
    "        if match:\n",
    "            w = match.group(1)\n",
    "            pos = int(match.group(2))\n",
    "            m = match.group(3)\n",
    "        else:\n",
    "            w,pos,m = np.nan,np.nan,np.nan\n",
    "\n",
    "        info0 = info.loc[info['Fasta'].map(lambda x:check(x,w,pos))]\n",
    "        if info0.shape[0]>0:\n",
    "            info1 = info0.iloc[0]\n",
    "        else:\n",
    "            info1 = np.nan\n",
    "    else:\n",
    "        info1 = np.nan\n",
    "        \n",
    "    if type(info1)==pd.Series:\n",
    "        info1['transcript stable id']=enst\n",
    "        info1['wild'],info1['mutant'],info1['pos'] = w,m,pos\n",
    "    return info1\n",
    "        \n",
    "\n",
    "info = mut_df1_sm.apply(get_info,axis = 1)"
   ]
  },
  {
   "cell_type": "code",
   "execution_count": null,
   "metadata": {},
   "outputs": [],
   "source": [
    "info.shape"
   ]
  },
  {
   "cell_type": "code",
   "execution_count": null,
   "metadata": {},
   "outputs": [],
   "source": [
    "def check_wild(row):\n",
    "    try:\n",
    "        f,w,p =row[['Fasta','wild','pos']]\n",
    "        w0 = f[(int(p)-1)]\n",
    "        return True\n",
    "    except ValueError:\n",
    "        return False"
   ]
  },
  {
   "cell_type": "code",
   "execution_count": null,
   "metadata": {},
   "outputs": [],
   "source": [
    "check = info.apply(check_wild,axis=1)"
   ]
  },
  {
   "cell_type": "code",
   "execution_count": null,
   "metadata": {},
   "outputs": [],
   "source": [
    "check.value_counts()"
   ]
  },
  {
   "cell_type": "markdown",
   "metadata": {},
   "source": [
    "There are 20094 mutations and of these 1099 of them have missing fastas"
   ]
  },
  {
   "cell_type": "code",
   "execution_count": null,
   "metadata": {},
   "outputs": [],
   "source": [
    "#include all of our extra information to our database\n",
    "df2_sm =pd.concat([mut_df1_sm,info],axis=1)\n",
    "\n",
    "df2_sm.index = range(df2_sm.shape[0])"
   ]
  },
  {
   "cell_type": "markdown",
   "metadata": {},
   "source": [
    "# Find the String for use with sift"
   ]
  },
  {
   "cell_type": "code",
   "execution_count": null,
   "metadata": {},
   "outputs": [],
   "source": [
    "def sift_string(row):\n",
    "    c,s,strand,r,t = row[['Chromosome','Start_position','Strand','Reference_Allele','Tumor_Seq_Allele1']]\n",
    "    conv_strand={'+':1,'-':-1}\n",
    "    return \"{},{},{},{}/{}\".format(c,s,conv_strand[strand],r,t)\n",
    "\n",
    "sift = df2_sm.apply(lambda row:sift_string(row),axis=1)\n",
    "\n",
    "df2_sm['sift_string'] = sift"
   ]
  },
  {
   "cell_type": "code",
   "execution_count": null,
   "metadata": {},
   "outputs": [],
   "source": [
    "sift_groups = pd.Series(df2_sm.groupby(by = 'sift_string' ).groups).map(lambda x: '_'.join(x.astype(str)))\n",
    "\n",
    "sift_info = sift_groups.index+','+sift_groups\n",
    "\n",
    "#all of our sift information is on the positive strand - I assume that this is the way CCLE count their mutations\n",
    "pd.Series(sift_info).map(lambda x:x.split(',')[2]).value_counts()\n",
    "\n",
    "\n",
    "\n",
    "string_nums = [str(i) for i in range(1,23)]\n",
    "sift_info ='\\n'.join([i for i in sift_info if i.split(',')[0] in string_nums])\n",
    "\n",
    "with open('sift_info_new_cell_lines','w') as f:\n",
    "    f.write(sift_info)"
   ]
  },
  {
   "cell_type": "code",
   "execution_count": null,
   "metadata": {},
   "outputs": [],
   "source": [
    "with open('sift_info_new_cell_lines','r') as f:\n",
    "    sift_info = f.read()"
   ]
  },
  {
   "cell_type": "markdown",
   "metadata": {},
   "source": [
    "# Using the online tool sift \n",
    "\n",
    "The document created and saved above can now be used to feed into sift\n",
    "https://sift.bii.a-star.edu.sg/www/Extended_SIFT_chr_coords_submit.html\n",
    "The results were saved into sift_results_path and then analyzed"
   ]
  },
  {
   "cell_type": "code",
   "execution_count": null,
   "metadata": {},
   "outputs": [],
   "source": [
    "dire = '/its/home/skw24/depmap/sift'\n",
    "paths = os.listdir(dire)"
   ]
  },
  {
   "cell_type": "code",
   "execution_count": null,
   "metadata": {},
   "outputs": [],
   "source": [
    "def load_sift(path):\n",
    "    with open(path) as f:\n",
    "        the_list = f.read().split('\\n')\n",
    "    the_array = [i.split('\\t') for i in the_list]\n",
    "    prob_length = len(the_array[len(the_array)//2])\n",
    "    \n",
    "    the_array0 = [i for i in the_array if len(i)==prob_length]\n",
    "\n",
    "    ans= pd.DataFrame(the_array0[1:],columns = the_array0[0])\n",
    "    ans.index = ans['Coordinates']\n",
    "    return ans"
   ]
  },
  {
   "cell_type": "code",
   "execution_count": null,
   "metadata": {},
   "outputs": [],
   "source": [
    "g = pd.concat([load_sift(os.path.join(dire,path)) for path in paths])"
   ]
  },
  {
   "cell_type": "code",
   "execution_count": null,
   "metadata": {},
   "outputs": [],
   "source": [
    "g_damaging = g.loc[g['Prediction']=='DAMAGING']"
   ]
  },
  {
   "cell_type": "code",
   "execution_count": null,
   "metadata": {},
   "outputs": [],
   "source": [
    "g_dict =g['Prediction'].to_dict()"
   ]
  },
  {
   "cell_type": "code",
   "execution_count": null,
   "metadata": {},
   "outputs": [],
   "source": [
    "df2_sm['sift_results'] = df2_sm['sift_string'].map(lambda x: g_dict.get(x,np.nan))"
   ]
  },
  {
   "cell_type": "code",
   "execution_count": null,
   "metadata": {},
   "outputs": [],
   "source": [
    "df3_sm = df2_sm.loc[df2_sm['sift_results']=='DAMAGING']"
   ]
  },
  {
   "cell_type": "code",
   "execution_count": null,
   "metadata": {},
   "outputs": [],
   "source": [
    "df3_sm.head()"
   ]
  },
  {
   "cell_type": "code",
   "execution_count": null,
   "metadata": {},
   "outputs": [],
   "source": [
    "df3_sm[['Tumor_Sample_Barcode','Protein stable ID']]"
   ]
  },
  {
   "cell_type": "markdown",
   "metadata": {},
   "source": [
    "We assume that pathogenic mutations known tumor suppressors are loss of function\n",
    "that pathogenic mutations in known oncogenes are gain of function and that any remaining pathogenic mutations \n",
    "in kinases are oncogenic.\n",
    "\n",
    "Details on how to construct the three lists oncs,tsgs,kinases is given in the separate jupyter notebook oncs,tsgs,kinases"
   ]
  },
  {
   "cell_type": "code",
   "execution_count": null,
   "metadata": {},
   "outputs": [],
   "source": [
    "onc_stable_ID = set(conv.loc[conv['Gene name'].map(lambda x:x in oncs)]['Protein stable ID'])\n",
    "\n",
    "tsgs_stable_ID = set(conv.loc[conv['Gene name'].map(lambda x:x in set(tsgs))]['Protein stable ID'])\n",
    "\n",
    "kinase_protein_stable_ID = set(conv.loc[conv['Gene name'].map(lambda x:x in kinases)]['Protein stable ID'])\n",
    "\n",
    "def lof_gof(x):\n",
    "    \n",
    "    if x in tsgs_stable_ID:\n",
    "        return 'lof'\n",
    "    elif x in onc_stable_ID:\n",
    "        return 'gof'\n",
    "    elif x in kinase_protein_stable_ID:\n",
    "        return 'gof'\n",
    "    else:\n",
    "        return 'lof'"
   ]
  },
  {
   "cell_type": "code",
   "execution_count": null,
   "metadata": {},
   "outputs": [],
   "source": [
    "df3_sm['lof_gof'] = df3_sm['Protein stable ID'].map(lof_gof)"
   ]
  },
  {
   "cell_type": "code",
   "execution_count": null,
   "metadata": {},
   "outputs": [],
   "source": [
    "def get_gene(x):\n",
    "    gn = conv.loc[conv['Transcript stable ID']==x]['Gene stable ID']\n",
    "    try:\n",
    "        return gn.iloc[0]\n",
    "    except IndexError:\n",
    "        return np.nan"
   ]
  },
  {
   "cell_type": "code",
   "execution_count": null,
   "metadata": {},
   "outputs": [],
   "source": [
    "enst_ensg = pd.Series(conv['Gene stable ID'],index = conv['Transcript stable ID']).to_dict()"
   ]
  },
  {
   "cell_type": "code",
   "execution_count": null,
   "metadata": {},
   "outputs": [],
   "source": [
    "df3_sm['Gene']=df3_sm['Annotation_Transcript'].map(lambda x:enst_ensg.get(x,np.nan))"
   ]
  },
  {
   "cell_type": "code",
   "execution_count": null,
   "metadata": {},
   "outputs": [],
   "source": [
    "gof = df3_sm.loc[df3_sm['lof_gof']=='gof']\n",
    "lof = df3_sm.loc[df3_sm['lof_gof']=='lof']"
   ]
  },
  {
   "cell_type": "code",
   "execution_count": null,
   "metadata": {},
   "outputs": [],
   "source": [
    "lists_of_genes = lambda df:pd.Series(df.groupby(by = 'Tumor_Sample_Barcode').groups).map(\n",
    "    lambda x: ','.join(set(df.reindex(x)['Gene'].values)-set([np.nan])))\n",
    "\n",
    "cell_gofs = lists_of_genes(gof)\n",
    "cell_lofs_missense = lists_of_genes(lof)"
   ]
  },
  {
   "cell_type": "code",
   "execution_count": null,
   "metadata": {},
   "outputs": [],
   "source": [
    "index = list(set(path_muts_per_sample.index)|set(cell_lofs_missense.index))\n",
    "\n",
    "path_muts_per_sample=path_muts_per_sample.reindex(index).fillna('')\n",
    "cell_lofs_missense=cell_lofs_missense.reindex(index).fillna('')\n",
    "\n",
    "cell_lofs = (path_muts_per_sample+cell_lofs_missense).map(lambda x: ','.join(set(x.split(','))))"
   ]
  },
  {
   "cell_type": "code",
   "execution_count": null,
   "metadata": {},
   "outputs": [],
   "source": [
    "cell_lofs.to_csv('cell_lofs.csv')\n",
    "cell_gofs.to_csv('cell_gofs.csv')"
   ]
  },
  {
   "cell_type": "code",
   "execution_count": null,
   "metadata": {},
   "outputs": [],
   "source": [
    "class Gene:\n",
    "    \n",
    "    ''''''\n",
    "    \n",
    "    conv0 = converter.multi_converter\n",
    "    all_genes = list(set(conv0.loc[conv0['Protein stable ID']!='']['Gene stable ID']))\n",
    "    all_genes.sort()\n",
    "    name_ensg = conv['Gene stable ID']\n",
    "    name_ensg.index = conv['Gene name']\n",
    "    name_ensg = name_ensg.to_dict()\n",
    "    cell_lofs = pd.read_csv('cell_lofs.csv',squeeze = True,header = None,index_col = 0)\n",
    "    cell_gofs = pd.read_csv('cell_gofs.csv',squeeze = True,header = None,index_col = 0)\n",
    "    \n",
    "    def rpkm():\n",
    "        \n",
    "        if '_rpkm' not in Gene.__dict__:\n",
    "            \n",
    "            temp = pd.read_csv(gene_path,skiprows = 2,sep = '\\t')\n",
    "            temp.index = temp['Name'].map(lambda x: x.split('.')[0])\n",
    "            temp = temp.loc[Gene.all_genes]\n",
    "            temp.drop(labels = ['Name','Description'],axis = 'columns',inplace = True)\n",
    "            Gene._rpkm = temp            \n",
    "        return Gene._rpkm\n",
    "        \n",
    "       \n",
    "\n",
    "    \n",
    "    \n",
    "    def __init__(self,cell_lines = []):\n",
    "        \n",
    "        if len(cell_lines)==0:\n",
    "            with open('{}good_cell_lines.json'.format(self.directory)) as f:\n",
    "                self.cell_lines=json.load(f)\n",
    "        else:\n",
    "            self.cell_lines = cell_lines\n",
    "                    \n",
    "        self.rpkm = Gene.rpkm()[self.cell_lines]\n",
    "        #self.rpkm.to_csv('/its/home/skw24/depmap/apollo/{}/rpkm.csv'.format(cancer))\n",
    "        \n",
    "        # we are going to assume that every gain of function bumps the effective\n",
    "        #gene expression to 10 times what it would otherwise have been.\n",
    "        \n",
    "        self.gain_of_function =  self.convert_lists_to_binary_df(Gene.cell_gofs)*9+1\n",
    "        self.loss_of_function =  self.convert_lists_to_binary_df(Gene.cell_lofs)\n",
    "        \n",
    "        self.temp = Gene.rpkm().T.copy()\n",
    "        #separate the cell lines by tissue type\n",
    "        self.temp['tissue_type'] = self.temp.index.map(lambda x:x.split('_')[-1])\n",
    "        #for each tissue type take the average of the rpkms\n",
    "        self.means = self.temp.groupby(by = 'tissue_type',axis = 0).mean()\n",
    "        self.tissue_type = self.temp['tissue_type']\n",
    "        self.temp = self.temp.drop(labels = ['tissue_type'],axis=1)\n",
    "        #find the ratio of the actual value to the average tissue type value\n",
    "        means = pd.DataFrame(list(self.tissue_type.map(lambda x: self.means.loc[x])),index = self.tissue_type.index)\n",
    "        self.prop_tt = ((self.temp/means).fillna(100).T)[self.cell_lines]\n",
    "        \n",
    "        all_means= Gene.rpkm()[Gene.rpkm().columns[2:]].fillna(0).T.mean()\n",
    "        self.prop_all = self.rpkm.apply(lambda row: row/all_means.loc[row.name],axis = 1)\n",
    "        \n",
    "\n",
    "    def convert_lists_to_binary_df(self,series):\n",
    "        '''given a series of lists of genes we put them into the same format as self.rpkm, filling\n",
    "        any nans with 0s and ensuring that everything is an integer'''\n",
    "\n",
    "        # first we turn our string into a list, assign ones to anything in the list and bulk it up to \n",
    "        #the same index as self.rpkm\n",
    "        convert_to_ones = lambda x:pd.Series(1,index = x.split(',')).reindex(self.rpkm.index)\n",
    "\n",
    "        #now we convert that series into a data frame\n",
    "        ones = pd.DataFrame(list(series.map(convert_to_ones)),index = series.index).T\n",
    "\n",
    "        #finally we bulk up the columns to match self.rpkm, fill in any nans with 0s and turn it back into \n",
    "        #and integer df\n",
    "        return ones.reindex(self.rpkm.columns,axis = 1).fillna(0).astype(int)\n",
    "        \n",
    "    def get_weights(self,scale):\n",
    "        \n",
    "        return {\n",
    "            'raw':self.scaling(self.rpkm,scale),\n",
    "            'mean_for_tissue_type':self.scaling(self.prop_tt,scale),\n",
    "            'mean_for_all':self.scaling(self.prop_all,scale)\n",
    "        }      \n",
    "    \n",
    "    def get_raw_weights(self,tanh_parameter):\n",
    "        return self.scaling(self.rpkm,'tanh',tanh_parameter)\n",
    "    \n",
    "    def get_tt_weights(self,tanh_parameter):\n",
    "        return self.scaling(self.prop_tt,'tanh',tanh_parameter)\n",
    "    \n",
    "    def get_all_weights(self,tanh_parameter):\n",
    "        return self.scaling(self.prop_all,'tanh',tanh_parameter)\n",
    "        \n",
    "    def scaling(self,df,scale,tanh_parameter):\n",
    "        \n",
    "\n",
    "        df1=df*self.gain_of_function\n",
    "        df2 = df1.fillna(0)\n",
    "        scale_functions = {'tanh':lambda x: 0.5-0.5*(math.tanh(tanh_parameter+math.log(x+1e-10))),\n",
    "                                   'inverse': lambda x:max(int(1/(x+1e-4)),1)\n",
    "                                  }\n",
    "        scalar={'tanh':1,'inverse':10000}\n",
    "        df3= df2.applymap(scale_functions[scale])\n",
    "        mx = np.vectorize(max)\n",
    "\n",
    "\n",
    "        columns = df.columns\n",
    "        index = df.index\n",
    "\n",
    "\n",
    "        w= pd.DataFrame(mx(df3,self.loss_of_function*scalar[scale]),\n",
    "                                      index = index,columns= columns)\n",
    "\n",
    "\n",
    "        w=w.reindex(Gene.all_genes).fillna(1)\n",
    "\n",
    "        return w\n",
    "       "
   ]
  },
  {
   "cell_type": "code",
   "execution_count": 2,
   "metadata": {},
   "outputs": [
    {
     "data": {
      "image/png": "[encoded data removed]",
      "text/plain": [
       "<Figure size 432x288 with 1 Axes>"
      ]
     },
     "metadata": {
      "needs_background": "light"
     },
     "output_type": "display_data"
    }
   ],
   "source": [
    "tanh = np.vectorize(lambda x,a=0: 0.5-0.5*(math.tanh(a+math.log(x+1e-10))))\n",
    "\n",
    "myrange = np.arange(0,10,0.1)\n",
    "\n",
    "for a in range(5):\n",
    "    plt.plot(tanh(myrange,a/2))"
   ]
  },
  {
   "cell_type": "code",
   "execution_count": null,
   "metadata": {},
   "outputs": [],
   "source": [
    "globals().keys()"
   ]
  },
  {
   "cell_type": "code",
   "execution_count": null,
   "metadata": {},
   "outputs": [],
   "source": [
    "self = Gene(cell_lines)"
   ]
  },
  {
   "cell_type": "code",
   "execution_count": null,
   "metadata": {},
   "outputs": [],
   "source": [
    "#Trying out a number of different parameters for our smoothing function. You can see from above what type \n",
    "#of difference they make\n",
    "weights = []\n",
    "for a in range(5):\n",
    "    tanh_parameter = a/2\n",
    "    w=self.get_raw_weights(tanh_parameter)\n",
    "    w.to_csv('raw_weights_with_tanh_{}.csv'.format(a))\n",
    "    weights.append(w)\n",
    "    print(a)"
   ]
  },
  {
   "cell_type": "code",
   "execution_count": null,
   "metadata": {},
   "outputs": [],
   "source": [
    "df = self.prop_tt.T\n",
    "for a in range(5):\n",
    "    tanh_parameter = a/2\n",
    "    w=self.get_tt_weights(tanh_parameter)\n",
    "    w.to_csv('tt_weights_with_tanh_{}.csv'.format(a))\n",
    "    print(a)"
   ]
  },
  {
   "cell_type": "code",
   "execution_count": null,
   "metadata": {},
   "outputs": [],
   "source": [
    "for a in range(5):\n",
    "    tanh_parameter = a/2\n",
    "    w=self.get_all_weights(tanh_parameter)\n",
    "    w.to_csv('all_weights_with_tanh_{}.csv'.format(a))\n",
    "    print(a, end = '')"
   ]
  },
  {
   "cell_type": "code",
   "execution_count": null,
   "metadata": {},
   "outputs": [],
   "source": []
  }
 ],
 "metadata": {
  "kernelspec": {
   "display_name": "Python 3",
   "language": "python",
   "name": "python3"
  },
  "language_info": {
   "codemirror_mode": {
    "name": "ipython",
    "version": 3
   },
   "file_extension": ".py",
   "mimetype": "text/x-python",
   "name": "python",
   "nbconvert_exporter": "python",
   "pygments_lexer": "ipython3",
   "version": "3.7.2"
  }
 },
 "nbformat": 4,
 "nbformat_minor": 2
}
